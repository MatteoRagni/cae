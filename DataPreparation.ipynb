{
 "cells": [
  {
   "cell_type": "markdown",
   "metadata": {
    "collapsed": true
   },
   "source": [
    "# Data Preparation\n",
    "\n",
    "The data will be prepared as follows.\n",
    "\n",
    " * each image is a tensor $227\\times227\\times3$\n",
    " * for each color channel, are centered:\n",
    "   $$\n",
    "   px_{i,j} = \\dfrac{px_{i,j} - (255.0/2.0)}{255.0}\n",
    "   $$\n",
    " * all data will go in a tensor $N\\times227\\times227\\times3$\n",
    " \n",
    " "
   ]
  },
  {
   "cell_type": "code",
   "execution_count": 1,
   "metadata": {
    "collapsed": false
   },
   "outputs": [],
   "source": [
    "# Importing libraries\n",
    "from __future__ import print_function\n",
    "\n",
    "import numpy as np\n",
    "import os\n",
    "from glob import glob\n",
    "import random\n",
    "\n",
    "import matplotlib.pyplot as plt\n",
    "%matplotlib inline\n",
    "from IPython.display import display, Image\n",
    "from scipy import ndimage\n",
    "\n",
    "from six.moves import cPickle as pickle\n",
    "\n",
    "# Al dataset are relative to the position of this file\n",
    "DATASET_DIR = os.path.join(os.getcwd(), 'dataset/data')\n",
    "\n",
    "CONFIG = {\n",
    "    \"ext\": \"png\",\n",
    "    \"width\": 227,\n",
    "    \"height\": 227,\n",
    "    \"depth\": 3,\n",
    "    \"pixel_depth\": 255.0,\n",
    "    \"verbose\": True,\n",
    "    \"batches\": 1000,\n",
    "    \"output\": \"data.pickle\"\n",
    "}"
   ]
  },
  {
   "cell_type": "code",
   "execution_count": 2,
   "metadata": {
    "collapsed": false,
    "scrolled": false
   },
   "outputs": [
    {
     "name": "stdout",
     "output_type": "stream",
     "text": [
      "BATCH COMPLETE\n",
      "Images: 1000\n",
      "Mean: -0.345\n",
      "Std:  0.217\n",
      "BATCH COMPLETE\n",
      "Images: 1000\n",
      "Mean: -0.345\n",
      "Std:  0.217\n",
      "BATCH COMPLETE\n",
      "Images: 1000\n",
      "Mean: -0.345\n",
      "Std:  0.217\n",
      "BATCH COMPLETE\n",
      "Images: 1000\n",
      "Mean: -0.345\n",
      "Std:  0.217\n",
      "BATCH COMPLETE\n",
      "Images: 1000\n",
      "Mean: -0.345\n",
      "Std:  0.217\n",
      "BATCH COMPLETE\n",
      "Images: 1000\n",
      "Mean: -0.345\n",
      "Std:  0.217\n",
      "BATCH COMPLETE\n",
      "Images: 1000\n",
      "Mean: -0.345\n",
      "Std:  0.217\n",
      "BATCH COMPLETE\n",
      "Images: 1000\n",
      "Mean: -0.345\n",
      "Std:  0.217\n",
      "BATCH COMPLETE\n",
      "Images: 1000\n",
      "Mean: -0.345\n",
      "Std:  0.217\n",
      "BATCH COMPLETE\n",
      "Images: 1000\n",
      "Mean: -0.345\n",
      "Std:  0.217\n",
      "BATCH COMPLETE\n",
      "Images: 1000\n",
      "Mean: -0.345\n",
      "Std:  0.217\n",
      "BATCH COMPLETE\n",
      "Images: 1000\n",
      "Mean: -0.345\n",
      "Std:  0.217\n",
      "BATCH COMPLETE\n",
      "Images: 1000\n",
      "Mean: -0.345\n",
      "Std:  0.217\n",
      "BATCH COMPLETE\n",
      "Images: 800\n",
      "Mean: -0.276\n",
      "Std:  0.238\n",
      "COMPLETED\n"
     ]
    }
   ],
   "source": [
    "class DataPreparator:\n",
    "    # Initialize the DataPreparator class, that inspects all\n",
    "    # the files.\n",
    "    # Requires a path and a configuration object\n",
    "    def __init__(self, img_path, config):\n",
    "        self.data_path          = img_path\n",
    "        self.file_list          = glob(self.data_path + '/*.' + config[\"ext\"])\n",
    "        self.file_list          = [os.path.join(self.data_path, f) for f in self.file_list]\n",
    "        self.shuffled_file_list = random.sample(self.file_list, len(self.file_list))\n",
    "        self.batch_lists        = []\n",
    "        \n",
    "        self.data_size          = 0\n",
    "        self.width              = config[\"width\"]\n",
    "        self.height             = config[\"height\"]\n",
    "        self.depth              = config[\"depth\"]\n",
    "        self.pixel_depth        = config[\"pixel_depth\"]\n",
    "        self.verbose            = config[\"verbose\"]\n",
    "        self.batches_size       = config[\"batches\"]\n",
    "        self.batches            = 0\n",
    "        self.output             = os.path.join(self.data_path, \"..\", config[\"output\"])\n",
    "        self.batches_generate()\n",
    "        self.loadAllFiles()\n",
    "        \n",
    "    # Test printing some of the files that are in the directory\n",
    "    # Requires an integer as input\n",
    "    def testDirFiles(self, no):\n",
    "        print(\"Now I show you some samples:\")\n",
    "        files = random.sample(self.shuffled_file_list, no)\n",
    "        for f in files:\n",
    "            print(f)\n",
    "            display(Image(filename=f))\n",
    "    \n",
    "    def batches_generate(self):\n",
    "        chunk            = []\n",
    "        self.batch_lists = []\n",
    "        for i in range(0, len(self.shuffled_file_list), self.batches_size):\n",
    "            chunk = self.shuffled_file_list[i:i + self.batches_size]\n",
    "            self.batch_lists.append(chunk)\n",
    "        self.batches = len(self.batch_lists)\n",
    "    \n",
    "    # Given a file load the numpy Array, makes it\n",
    "    # zero-mean and return the tensor.\n",
    "    # Requires as input a file\n",
    "    def loadFile(self, f):\n",
    "        exp_shape = (self.height, self.width, self.depth)\n",
    "        try:\n",
    "            # PIXELS - (PIXEL_DEPTH/2)\n",
    "            # ------------------------ = FinalArray\n",
    "            #       PIXEL_DEPTH\n",
    "            image = (ndimage.imread(f, mode='RGB') - self.pixel_depth/2.0) / self.pixel_depth\n",
    "            if image.shape != exp_shape:\n",
    "                raise Exception(\"Unexpected Image Shape: {}\".format(image.shape))\n",
    "            #if self.verbose:\n",
    "                #print(\"File: %s :: mean = %.3f std = %.3f\" % (os.path.basename(f), np.mean(image), np.std(image)))\n",
    "            return image\n",
    "        except IOError as e:\n",
    "            print(\"Cannot read %s: %s. Skipping it!!\" % (os.path.basename(f), e))\n",
    "            return None\n",
    "    \n",
    "    def emptyBatchN(self, n):\n",
    "        return np.ndarray(shape=(n, self.height, self.width,self.depth), dtype=np.float32)\n",
    "    \n",
    "    def emptyBatch(self):\n",
    "        return self.emptyBatchN(self.batches_size)\n",
    "    \n",
    "    # Load all images files as it where different batches\n",
    "    # unfortunately i cannot handle all files in a single object\n",
    "    def loadAllFiles(self):\n",
    "        try:\n",
    "            with open(self.output, 'wb') as p:\n",
    "                pickle.dump(self.batches, p, pickle.HIGHEST_PROTOCOL)\n",
    "                for current_batch in self.batch_lists:\n",
    "                    index = 0\n",
    "                    binary = self.emptyBatch()\n",
    "                    for f in current_batch:\n",
    "                        image = self.loadFile(f)\n",
    "                        if image is not None:\n",
    "                            binary[index, :, :, :] = image\n",
    "                            index += 1\n",
    "                    saving_binary = self.emptyBatchN(index)\n",
    "                    savin_binary = binary[:index, :, :, :]\n",
    "                    pickle.dump(saving_binary, p, pickle.HIGHEST_PROTOCOL)\n",
    "                    if self.verbose:\n",
    "                            print(\"BATCH COMPLETE\\nImages: %d\\nMean: %.3f\\nStd:  %.3f\" % (index, np.mean(binary), np.std(binary)))\n",
    "        except Exception as e:\n",
    "            print(\"Unable to save data to %s : %s\" % (self.output, e))\n",
    "        if self.verbose:\n",
    "            print(\"COMPLETED\")\n",
    "\n",
    "        \n",
    "        \n",
    "    \n",
    "dataHandler = DataPreparator(DATASET_DIR, CONFIG)\n",
    "# dataHandler.testFiles(3)\n",
    "\n",
    "      "
   ]
  },
  {
   "cell_type": "code",
   "execution_count": 4,
   "metadata": {
    "collapsed": false
   },
   "outputs": [
    {
     "name": "stdout",
     "output_type": "stream",
     "text": [
      "Now I show you some samples:\n",
      "/home/nirvana1289/data/workspace/shape-sorter-dnn/dataset/data/take_001263.png\n"
     ]
    },
    {
     "data": {
      "image/png": "[encoded data removed]",
      "text/plain": [
       "<IPython.core.display.Image object>"
      ]
     },
     "metadata": {},
     "output_type": "display_data"
    },
    {
     "name": "stdout",
     "output_type": "stream",
     "text": [
      "/home/nirvana1289/data/workspace/shape-sorter-dnn/dataset/data/take_013783.png\n"
     ]
    },
    {
     "data": {
      "image/png": "[encoded data removed]",
      "text/plain": [
       "<IPython.core.display.Image object>"
      ]
     },
     "metadata": {},
     "output_type": "display_data"
    },
    {
     "name": "stdout",
     "output_type": "stream",
     "text": [
      "/home/nirvana1289/data/workspace/shape-sorter-dnn/dataset/data/take_002782.png\n"
     ]
    },
    {
     "data": {
      "image/png": "[encoded data removed]",
      "text/plain": [
       "<IPython.core.display.Image object>"
      ]
     },
     "metadata": {},
     "output_type": "display_data"
    },
    {
     "name": "stdout",
     "output_type": "stream",
     "text": [
      "/home/nirvana1289/data/workspace/shape-sorter-dnn/dataset/data/take_007647.png\n"
     ]
    },
    {
     "data": {
      "image/png": "[encoded data removed]",
      "text/plain": [
       "<IPython.core.display.Image object>"
      ]
     },
     "metadata": {},
     "output_type": "display_data"
    },
    {
     "name": "stdout",
     "output_type": "stream",
     "text": [
      "/home/nirvana1289/data/workspace/shape-sorter-dnn/dataset/data/take_006878.png\n"
     ]
    },
    {
     "data": {
      "image/png": "[encoded data removed]",
      "text/plain": [
       "<IPython.core.display.Image object>"
      ]
     },
     "metadata": {},
     "output_type": "display_data"
    }
   ],
   "source": [
    "dataHandler.testDirFiles(5)"
   ]
  },
  {
   "cell_type": "code",
   "execution_count": null,
   "metadata": {
    "collapsed": true
   },
   "outputs": [],
   "source": []
  }
 ],
 "metadata": {
  "kernelspec": {
   "display_name": "Python 3",
   "language": "python",
   "name": "python3"
  },
  "language_info": {
   "codemirror_mode": {
    "name": "ipython",
    "version": 3
   },
   "file_extension": ".py",
   "mimetype": "text/x-python",
   "name": "python",
   "nbconvert_exporter": "python",
   "pygments_lexer": "ipython3",
   "version": "3.5.1"
  }
 },
 "nbformat": 4,
 "nbformat_minor": 0
}
